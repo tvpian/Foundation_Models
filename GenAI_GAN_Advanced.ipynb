{
  "nbformat": 4,
  "nbformat_minor": 0,
  "metadata": {
    "colab": {
      "provenance": [],
      "gpuType": "T4",
      "authorship_tag": "ABX9TyN5vEhX8u5HLzEn1rfUWj20",
      "include_colab_link": true
    },
    "kernelspec": {
      "name": "python3",
      "display_name": "Python 3"
    },
    "language_info": {
      "name": "python"
    },
    "accelerator": "GPU"
  },
  "cells": [
    {
      "cell_type": "markdown",
      "metadata": {
        "id": "view-in-github",
        "colab_type": "text"
      },
      "source": [
        "<a href=\"https://colab.research.google.com/github/tvpian/Foundation_Models/blob/main/GenAI_GAN_Advanced.ipynb\" target=\"_parent\"><img src=\"https://colab.research.google.com/assets/colab-badge.svg\" alt=\"Open In Colab\"/></a>"
      ]
    },
    {
      "cell_type": "code",
      "source": [
        "# Advanced GAN"
      ],
      "metadata": {
        "id": "rXuLl-UyFfzq"
      },
      "execution_count": 1,
      "outputs": []
    },
    {
      "cell_type": "code",
      "source": [
        "# Importing the Libraries\n",
        "import torch , torchvision, os, PIL, pdb\n",
        "from torch import nn\n",
        "from torch.utils.data import Dataset\n",
        "from torch.utils.data import DataLoader\n",
        "from torchvision import transforms\n",
        "from torchvision.utils import make_grid\n",
        "from tqdm.auto import tqdm\n",
        "import numpy as np\n",
        "from PIL import Image\n",
        "import matplotlib.pyplot as plt"
      ],
      "metadata": {
        "id": "IPOq4klZFh1_"
      },
      "execution_count": 3,
      "outputs": []
    },
    {
      "cell_type": "code",
      "source": [
        "def show(tensor, num = 25, wamb = 0, name = ''):\n",
        "  data = tensor.detach().cpu()\n",
        "  grid = make_grid(data[:num], nrow = 5).permute(1,2,0)\n",
        "  ##optional\n",
        "  if wandb == 1 and wanbact == 1:\n",
        "    wandb.log({name:wandb.Image(grid.numpy().clip(0,1))})\n",
        "  plt.show(grid.clip(0,1))\n",
        "  plt.show()\n",
        "\n",
        "\n",
        "## hypermeters and general parameters\n",
        "n_epochs = 10000\n",
        "batch_size = 128\n",
        "lr = 1e-4\n",
        "z_dim = 200\n",
        "device = 'cuda'\n",
        "\n",
        "cur_step = 0\n",
        "crit_cycles = []\n",
        "gen_losses = []\n",
        "crit_losses = []\n",
        "show_step = 35\n",
        "save_step = 35\n",
        "\n",
        "\n",
        "wandbact = 1\n",
        "\n",
        "\n"
      ],
      "metadata": {
        "id": "9hiitbFmGLcQ"
      },
      "execution_count": 4,
      "outputs": []
    },
    {
      "cell_type": "code",
      "source": [
        "### Libraries to communicate with WANDB\n",
        "\n",
        "!pip install wandb -qqq\n",
        "import wandb"
      ],
      "metadata": {
        "colab": {
          "base_uri": "https://localhost:8080/"
        },
        "id": "f06KxWC1JWST",
        "outputId": "8313dd6a-51b5-4165-c823-3962145e3fbf"
      },
      "execution_count": 9,
      "outputs": [
        {
          "output_type": "stream",
          "name": "stderr",
          "text": [
            "\u001b[34m\u001b[1mwandb\u001b[0m: \u001b[33mWARNING\u001b[0m Calling wandb.login() after wandb.init() has no effect.\n"
          ]
        },
        {
          "output_type": "execute_result",
          "data": {
            "text/plain": [
              "True"
            ]
          },
          "metadata": {},
          "execution_count": 9
        }
      ]
    },
    {
      "cell_type": "code",
      "source": [
        "wandb.login(key=\"c47eb3707f8ec450c0120e554ba97982c29cfa53\")"
      ],
      "metadata": {
        "colab": {
          "base_uri": "https://localhost:8080/"
        },
        "id": "KvWD2kIKQTFP",
        "outputId": "ca251d27-3b6d-4f3d-cfba-dce929ad6cf6"
      },
      "execution_count": 10,
      "outputs": [
        {
          "output_type": "stream",
          "name": "stderr",
          "text": [
            "\u001b[34m\u001b[1mwandb\u001b[0m: \u001b[33mWARNING\u001b[0m Calling wandb.login() after wandb.init() has no effect.\n"
          ]
        },
        {
          "output_type": "execute_result",
          "data": {
            "text/plain": [
              "True"
            ]
          },
          "metadata": {},
          "execution_count": 10
        }
      ]
    },
    {
      "cell_type": "code",
      "source": [
        "%%capture\n",
        "experiment_name = wandb.util.generate_id()\n",
        "\n",
        "myrun = wandb.init(\n",
        "    project = \"tvp_wgan\",\n",
        "    group = experiment_name,\n",
        "    config = {\n",
        "        \"optimizer\":\"adam\",\n",
        "        \"model\":\"wgan gp\",\n",
        "        \"epoch\":\"1000\",\n",
        "        \"batch_size\":128\n",
        "    }\n",
        ")\n",
        "config=wandb.config\n",
        "\n"
      ],
      "metadata": {
        "id": "uJUmn9QKJn9Q"
      },
      "execution_count": 11,
      "outputs": []
    },
    {
      "cell_type": "code",
      "source": [
        "print(experiment_name)\n"
      ],
      "metadata": {
        "colab": {
          "base_uri": "https://localhost:8080/"
        },
        "id": "H8pTaVBSNGZV",
        "outputId": "40833074-9475-4d38-b997-df5412c08a1a"
      },
      "execution_count": 13,
      "outputs": [
        {
          "output_type": "stream",
          "name": "stdout",
          "text": [
            "ipc8ggop\n"
          ]
        }
      ]
    },
    {
      "cell_type": "code",
      "source": [
        "# Generator model\n",
        "class Generator(nn.Module):\n",
        "  def __init__(self, z_dim = 64, d_dim = 16):\n",
        "    super(Generator, self).__init__()\n",
        "    self.z_dim = z_dim\n",
        "    self.gen = nn.Sequential(\n",
        "        # ConvTranspose2d: in_channels, out_channels, kernel_size, stride = 1, padding = 0\n",
        "        # Calculating new width and height: (n-1)*stride - 2*padding + ks\n",
        "        # n - width or height\n",
        "        # ks - kernel size\n",
        "        # input -  1x1 image with z_dim number of channels(200)\n",
        "        nn.ConvTranspose2d(z_dim, d_dim * 32, 4, 1, 0),  ## 4x4 (ch:200, 512)\n",
        "        nn.BatchNorm2d(d_dim * 32),\n",
        "        nn.ReLU(True),\n",
        "\n",
        "        nn.ConvTranspose2d(d_dim*32, d_dim*16, 4, 2, 1), ## 8x8 (ch:512, 256)\n",
        "        nn.BatchNorm2d(d_dim * 32),\n",
        "        nn.ReLU(True),\n",
        "\n",
        "        nn.ConvTranspose2d(d_dim*16, d_dim*8, 4, 2, 1), ## 16x16 (ch:256, 128)\n",
        "        nn.BatchNorm2d(d_dim * 16),\n",
        "        nn.ReLU(True),\n",
        "\n",
        "        nn.ConvTranspose2d(d_dim*8, d_dim*4, 4, 2, 1), ## 32x32 (ch:128, 64)\n",
        "        nn.BatchNorm2d(d_dim * 8),\n",
        "        nn.ReLU(True),\n",
        "\n",
        "        nn.ConvTranspose2d(d_dim*4, d_dim*2, 4, 2, 1), ## 64x64 (ch:64, 32)\n",
        "        nn.BatchNorm2d(d_dim * 4),\n",
        "        nn.ReLU(True),\n",
        "\n",
        "        nn.ConvTranspose2d(d_dim*2, 3, 4, 2, 1), ## 128x128 (ch:32, 3)\n",
        "        nn.Tanh() ## Get the results in the range of -1 and 1 preferred for Generative models\n",
        "    )\n",
        "\n",
        "  def forward(self, noise):\n",
        "    x = noise.view() # 128 x 200 x 1 x 1\n",
        "    return self.gen(x)\n",
        "\n",
        "  def gen_noise(num, z_dim, device = \"cuda\"):\n",
        "    return torch.rand(num, z_dim, device = \"cuda\") # 128 x 200\n"
      ],
      "metadata": {
        "id": "gEUiqz9RNUGl"
      },
      "execution_count": 16,
      "outputs": []
    },
    {
      "cell_type": "code",
      "source": [
        "## Critic model\n",
        "# conv2d: in_channel, out_channels, kernel_size, stride = 1, padding = 0\n",
        "## New_width and height: # (n+2*pad-ks)//stride + 1\n",
        "\n",
        "class Critic(nn.Module):\n",
        "  def __init__(self, d_dim=16):\n",
        "    super(Critic, self).__init__()\n",
        "\n",
        "    self.crit = nn.Sequential(\n",
        "        # Conv2d: in_channels, out_channels, kernel_size, stride = 1, padding = 0\n",
        "        ## New width and height: # (n+2*pad-ks)//stride + 1\n",
        "        nn.Conv2d(3, d_dim, 4, 2, 1), #(n+2*pad-ks)//stride + 1 - (128+2*1-4)//2+1 = 64 x 64 (ch: 3, 16)\n",
        "        nn.InstanceNorm2d(d_dim)\n",
        "        nn.R\n",
        "    )"
      ],
      "metadata": {
        "id": "QrCKTcOaiMXN"
      },
      "execution_count": null,
      "outputs": []
    }
  ]
}